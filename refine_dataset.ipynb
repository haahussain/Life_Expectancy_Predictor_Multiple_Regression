{
 "cells": [
  {
   "cell_type": "code",
   "execution_count": 4,
   "metadata": {},
   "outputs": [],
   "source": [
    "import pandas as pd"
   ]
  },
  {
   "cell_type": "code",
   "execution_count": 5,
   "metadata": {},
   "outputs": [],
   "source": [
    "life_df = pd.read_csv('Life_Expectancy_data.csv')"
   ]
  },
  {
   "cell_type": "code",
   "execution_count": 7,
   "metadata": {},
   "outputs": [],
   "source": [
    "#Create a new dataset to work with\n",
    "new_df = pd.DataFrame({'country': life_df['Country'],\n",
    "                        'life_expectancy': life_df['Life expectancy '],\n",
    "                        'alcohol': life_df['Alcohol'],\n",
    "                        'hepatitisB': life_df['Hepatitis B'],\n",
    "                        'measles': life_df['Measles '],\n",
    "                        'bmi': life_df[' BMI '],\n",
    "                        'polio': life_df['Polio'],\n",
    "                        'diphtheria': life_df['Diphtheria '],\n",
    "                        'hiv': life_df[' HIV/AIDS'],\n",
    "                        'total_expenditure': life_df['Total expenditure'],\n",
    "                        'gdp': life_df['GDP'],\n",
    "                        'total_expenditure': life_df['Total expenditure'],\n",
    "                        'thinness_till19': life_df[' thinness  1-19 years'],\n",
    "                        'inf_death': life_df['infant deaths'],\n",
    "                        'school': life_df['Schooling'],\n",
    "                        'population': life_df['Population'],\n",
    "                        'status': life_df['Status']\n",
    "                        })\n",
    "\n",
    "# create the cut offs to split the population into 3 catagories\n",
    "IQR = [new_df.population.quantile(0.33), new_df.population.quantile(0.67)]\n",
    "\n",
    "# create new feature splitting the population into 3 sizes\n",
    "new_df['pop_size'] = 1\n",
    "new_df.loc[(new_df.population < IQR[1]) & (new_df.population > IQR[0]), 'pop_size'] = 2\n",
    "new_df.loc[new_df.population >= IQR[1], 'pop_size'] = 3\n",
    "\n",
    "# change 0 infant deaths to 1 \n",
    "new_df.loc[new_df.inf_death == 0, 'inf_death'] = 1\n",
    "\n",
    "#create a new column for the ratio of adult and infants death\n",
    "new_df['death_ratio'] = life_df['Adult Mortality'] / new_df['inf_death']\n",
    "\n",
    "# save as new csv file to for future refrence\n",
    "refined_life_expectancy = new_df.to_csv(r'C:\\Users\\GILOR\\Desktop\\data_science\\Flatiron_projects\\Life_Expectancy_Project\\refined_life_expectancy.csv')"
   ]
  },
  {
   "cell_type": "code",
   "execution_count": null,
   "metadata": {},
   "outputs": [],
   "source": []
  }
 ],
 "metadata": {
  "kernelspec": {
   "display_name": "Python 3",
   "language": "python",
   "name": "python3"
  },
  "language_info": {
   "codemirror_mode": {
    "name": "ipython",
    "version": 3
   },
   "file_extension": ".py",
   "mimetype": "text/x-python",
   "name": "python",
   "nbconvert_exporter": "python",
   "pygments_lexer": "ipython3",
   "version": "3.7.1"
  }
 },
 "nbformat": 4,
 "nbformat_minor": 2
}
