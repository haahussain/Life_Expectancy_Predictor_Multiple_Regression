{
 "cells": [
  {
   "cell_type": "code",
   "execution_count": null,
   "metadata": {},
   "outputs": [],
   "source": [
    "# Which public health factors have the greatest impact on life expectancy by country "
   ]
  },
  {
   "cell_type": "code",
   "execution_count": null,
   "metadata": {},
   "outputs": [],
   "source": [
    "import pandas as pd\n",
    "import seaborn as sns\n",
    "import matplotlib.pyplot as plt\n",
    "import numpy as np\n",
    "import math\n",
    "import statsmodels.api as sm\n",
    "from statsmodels.formula.api import ols\n",
    "from sklearn.linear_model import LinearRegression\n",
    "from sklearn.model_selection import train_test_split\n",
    "from sklearn import metrics\n",
    "from sklearn.preprocessing import StandardScaler\n",
    "import plot_module as plm"
   ]
  },
  {
   "cell_type": "code",
   "execution_count": null,
   "metadata": {},
   "outputs": [],
   "source": [
    "df = pd.read_csv('refined_life_expect.csv')\n",
    "print(df.shape)\n",
    "\n",
    "#remove fragmanted data\n",
    "df.dropna(inplace=True)\n",
    "\n",
    "# make sure that there's still enough data to work with\n",
    "print(df.shape)"
   ]
  },
  {
   "cell_type": "code",
   "execution_count": null,
   "metadata": {
    "scrolled": true
   },
   "outputs": [],
   "source": [
    "# check for correlations between the different variables\n",
    "sns.pairplot(df, diag_kind=\"kde\", height=2.5)\n",
    "# plt.savefig('pairedplots_all.png')"
   ]
  },
  {
   "cell_type": "code",
   "execution_count": null,
   "metadata": {},
   "outputs": [],
   "source": [
    "# from the paired plot using the columns we believe alcohol, bmi, hiv, gdp, \n",
    "# children malnutrition, average education, country size (small/medium/big), \n",
    "# the ratio between adult to infant mortality, the interactions between bmi+alcohol (lifestyle), \n",
    "# and the interaction between population+gdp might effect the life expectancy\n",
    "\n",
    "new_df = pd.DataFrame({'life_expectancy': df['life_expectancy'],\n",
    "                        'alcohol': df['alcohol'],\n",
    "                        'bmi': df['bmi'],\n",
    "                        'hiv': df['hiv'],\n",
    "                        'gdp': df['gdp'],\n",
    "                        'thinness_till19': df['thinness_till19'],\n",
    "                        'inf_death': df['inf_death'],\n",
    "                        'school': df['school'],\n",
    "                        'death_ratio': df['death_ratio'],\n",
    "                        'lifestyle': df['bmi']*df['alcohol'],\n",
    "                        'pop_gdp': df['gdp']*df['pop_size'],\n",
    "                        'pop_size': df['pop_size'],\n",
    "                        })\n",
    "\n",
    "# check for multicollinearity and remove highgly correlated variables\n",
    "corr_map = new_df.corr()\n",
    "# corr_map"
   ]
  },
  {
   "cell_type": "code",
   "execution_count": null,
   "metadata": {
    "scrolled": false
   },
   "outputs": [],
   "source": [
    "# Example 1: Correlation between average education and life expectancy\n",
    "plm.create_scatter(new_df['school'], new_df['life_expectancy'], 'Life Expectancy and Education', \n",
    "                   'Education (Years)', 'Life Expectancy (Years)')         \n",
    "# np.corrcoef(new_df['school'], new_df['life_expectancy'])"
   ]
  },
  {
   "cell_type": "code",
   "execution_count": null,
   "metadata": {},
   "outputs": [],
   "source": [
    "# Example 2: Correlation between log transformed value of GDP and life expectancy\n",
    "plm.create_scatter(np.sqrt(new_df['gdp']), new_df['life_expectancy'], 'Life Expectancy and GDP', \n",
    "                   'GDP (log)', 'Life Expectancy (Years)') \n",
    "# plt.savefig('inf_death_sbrt.png')"
   ]
  },
  {
   "cell_type": "code",
   "execution_count": null,
   "metadata": {},
   "outputs": [],
   "source": [
    "plm.create_hist(new_df['gdp'], transform='log', title=\"GDP\", xlabel=\"GDP (log)\")\n",
    "# plt.savefig('gdp_hist_after.png')"
   ]
  },
  {
   "cell_type": "code",
   "execution_count": null,
   "metadata": {
    "scrolled": true
   },
   "outputs": [],
   "source": [
    "# Create a heatmap for all our variables\n",
    "plm.CorrMtx(corr_map)"
   ]
  },
  {
   "cell_type": "code",
   "execution_count": null,
   "metadata": {},
   "outputs": [],
   "source": [
    "# transform our independent variable to look more normally distrubuted\n",
    "new_df.hiv = new_df['hiv'].apply(np.log)\n",
    "new_df.pop_gdp = new_df['pop_gdp'].apply(np.log)\n",
    "new_df.gdp = new_df['gdp'].apply(np.log)\n",
    "new_df.inf_death =new_df['inf_death'].apply(np.cbrt)\n",
    "new_df.death_ratio = new_df['death_ratio'].apply(np.sqrt)"
   ]
  },
  {
   "cell_type": "code",
   "execution_count": null,
   "metadata": {},
   "outputs": [],
   "source": [
    "# before running the model we looked at our data more closely to check for outliers\n",
    "depended = ['life_expectancy']\n",
    "features = ['school', 'hiv', 'thinness_till19', 'gdp',\n",
    "            'death_ratio', 'inf_death', 'pop_gdp', 'bmi',\n",
    "            'alcohol', 'lifestyle'] \n",
    "\n",
    "# looking at our data again to try and locate outliers\n",
    "plm.get_pairs(new_df, depended, features, 3, fig_name=\"paired_before.png\")\n",
    "new_df.shape"
   ]
  },
  {
   "cell_type": "code",
   "execution_count": null,
   "metadata": {},
   "outputs": [],
   "source": [
    "# remove outliers and check the amount of data that we left\n",
    "new_df = new_df[new_df.gdp > 1.25] \n",
    "new_df = new_df[new_df.thinness_till19 < 25]\n",
    "new_df = new_df[new_df.lifestyle < 1000]\n",
    "\n",
    "plm.get_pairs(new_df, depended, features, 3, fig_name=\"paired_after.png\")\n",
    "new_df.shape"
   ]
  },
  {
   "cell_type": "code",
   "execution_count": null,
   "metadata": {
    "scrolled": false
   },
   "outputs": [],
   "source": [
    "# Using seaborn to create scatters and distribution graphs for our possible predictors after transforming the data\n",
    "colors = ['red','blue','green','black','purple','orange','pink', 'cyan','maroon', 'gray']\n",
    "count = 0 \n",
    "for column in new_df.columns[1:-1]:\n",
    "    plots = sns.jointplot(x=column, y='life_expectancy', data=new_df, kind='reg', ylim=(0,140), color=colors[count])\n",
    "    plots.annotate(stats.pearsonr)\n",
    "    count += 1"
   ]
  },
  {
   "cell_type": "code",
   "execution_count": null,
   "metadata": {},
   "outputs": [],
   "source": [
    "# first model to test our feature's significance\n",
    "lr_model_init = ols(formula='life_expectancy~bmi+hiv+gdp+thinness_till19+inf_death+C(pop_size)+school+death_ratio+lifestyle+pop_gdp', data=new_df).fit()\n",
    "lr_model_init.summary()"
   ]
  },
  {
   "cell_type": "code",
   "execution_count": null,
   "metadata": {},
   "outputs": [],
   "source": [
    " plm.checkresiduals(new_df, 'life_expectancy', lr_model_init)"
   ]
  },
  {
   "cell_type": "code",
   "execution_count": null,
   "metadata": {},
   "outputs": [],
   "source": [
    "#adjusting the model - remove features that were not statistically significant (alcohol, bmi, lifestyle)\n",
    "lr_model_inter = ols(formula='life_expectancy~+hiv+gdp+thinness_till19+inf_death+school+death_ratio+pop_gdp+C(pop_size)', data=new_df).fit()\n",
    "lr_model_inter.summary()"
   ]
  },
  {
   "cell_type": "code",
   "execution_count": null,
   "metadata": {},
   "outputs": [],
   "source": [
    "plm.checkresiduals(new_df, 'life_expectancy', lr_model_inter)"
   ]
  },
  {
   "cell_type": "code",
   "execution_count": null,
   "metadata": {},
   "outputs": [],
   "source": [
    "# Scaling the data set\n",
    "independent = ['school', 'hiv', 'thinness_till19',\n",
    "               'death_ratio', 'inf_death', 'pop_gdp',\n",
    "               ] \n",
    "\n",
    "scaler = StandardScaler()\n",
    "scaler.fit(new_df[independent])\n",
    "scaled_features = scaler.transform(new_df[independent])\n",
    "\n",
    "# create a scaled dataframe\n",
    "scaled_features_df = pd.DataFrame(scaled_features, columns=independent, index=new_df.index)\n",
    "scaled_features_df.head()\n",
    "\n",
    "# running the model again\n",
    "scaled_features_model = sm.OLS(endog=new_df['life_expectancy'], exog=sm.add_constant(scaled_features_df)).fit()\n",
    "scaled_features_model.summary()"
   ]
  },
  {
   "cell_type": "code",
   "execution_count": null,
   "metadata": {},
   "outputs": [],
   "source": [
    "plm.checkresiduals(new_df, 'life_expectancy', scaled_features_model)"
   ]
  },
  {
   "cell_type": "code",
   "execution_count": null,
   "metadata": {},
   "outputs": [],
   "source": [
    "# removing bmi, gdp, population size from testing that were deemed insignificant in past models\n",
    "X = new_df[['hiv','pop_gdp', 'death_ratio','school', 'thinness_till19', 'inf_death',]].values\n",
    "y = new_df.life_expectancy.values.reshape(-1,1)\n",
    "\n",
    "x_train, x_test, y_train, y_test = train_test_split(X, y, test_size=0.2, random_state=0)\n",
    "model = LinearRegression()\n",
    "model.fit(x_train, y_train)\n",
    "# print(model.intercept_)\n",
    "# print(model.coef_)\n",
    "\n",
    "y_predict = model.predict(x_test)\n",
    "predict_df = pd.DataFrame({'Actual': y_test.flatten(), 'Predicted': y_predict.flatten()})\n",
    "plot_df = predict_df.head(1530)\n",
    "# plot_df.plot(kind='scatter', x='Actual', y='Predicted', figsize=(8,5))\n",
    "# plt.ylabel('Life Expectancy')\n",
    "# plt.xlabel('Obvservation')\n",
    "\n",
    "plm.create_scatter(plot_df.Actual, plot_df.Predicted, 'Model Validation', 'Actual', 'Predict')\n",
    "plt.savefig('model_final.png')\n",
    "\n",
    "print('Mean absolete error:', metrics.mean_absolute_error(y_test, y_predict))\n",
    "print('Mean squared error:', metrics.mean_squared_error(y_test, y_predict))\n",
    "print('Root squared error:', np.sqrt(metrics.mean_squared_error(y_test, y_predict)))"
   ]
  },
  {
   "cell_type": "code",
   "execution_count": null,
   "metadata": {},
   "outputs": [],
   "source": [
    "# adding the features that were considered insignificant to our model to test\n",
    "X2 = new_df[['alcohol','bmi', 'pop_size', 'hiv','pop_gdp', 'death_ratio','school', 'thinness_till19', 'inf_death',]].values\n",
    "y2 = new_df.life_expectancy.values.reshape(-1,1)\n",
    "\n",
    "x_train2, x_test2, y_train2, y_test2 = train_test_split(X2, y2, test_size=0.2, random_state=0)\n",
    "model = LinearRegression()\n",
    "model.fit(x_train2, y_train2)\n",
    "# print(model.intercept_)\n",
    "# print(model.coef_)\n",
    "\n",
    "y_predict2 = model.predict(x_test2)\n",
    "predict_df2 = pd.DataFrame({'Actual': y_test2.flatten(), 'Predicted': y_predict2.flatten()})\n",
    "plot_df2 = predict_df2.head(1530)\n",
    "# plot_df2.plot(kind='bar', figsize=(8,5))\n",
    "# plt.ylabel('Life Expectancy')\n",
    "# plt.xlabel('Obvservation')\n",
    "\n",
    "plm.create_scatter(plot_df2.Actual, plot_df2.Predicted, 'Model Validation', 'Actual', 'Predict')\n",
    "plt.savefig('model_all.png')\n",
    "\n",
    "print('Mean absolete error:', metrics.mean_absolute_error(y_test2, y_predict2))\n",
    "print('Mean squared error:', metrics.mean_squared_error(y_test2, y_predict2))\n",
    "print('Moot squared error:', np.sqrt(metrics.mean_squared_error(y_test2, y_predict2)))"
   ]
  },
  {
   "cell_type": "code",
   "execution_count": null,
   "metadata": {},
   "outputs": [],
   "source": []
  }
 ],
 "metadata": {
  "kernelspec": {
   "display_name": "Python 3",
   "language": "python",
   "name": "python3"
  },
  "language_info": {
   "codemirror_mode": {
    "name": "ipython",
    "version": 3
   },
   "file_extension": ".py",
   "mimetype": "text/x-python",
   "name": "python",
   "nbconvert_exporter": "python",
   "pygments_lexer": "ipython3",
   "version": "3.7.2"
  }
 },
 "nbformat": 4,
 "nbformat_minor": 2
}
